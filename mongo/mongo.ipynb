{
 "cells": [
  {
   "cell_type": "code",
   "execution_count": 1,
   "metadata": {},
   "outputs": [],
   "source": [
    "from pymongo import MongoClient, InsertOne, UpdateOne\n",
    "from IPython.display import clear_output\n",
    "from bson.json_util import loads\n",
    "import pprint\n",
    "import configparser"
   ]
  },
  {
   "cell_type": "code",
   "execution_count": 2,
   "metadata": {},
   "outputs": [],
   "source": [
    "config = configparser.ConfigParser()\n",
    "config.read('mongo.cfg')\n",
    "\n",
    "client = MongoClient('mongodb+srv://{}:{}@{}/{}?retryWrites=true&w=majority'.format(*config['CLUSTER'].values()))\n",
    "\n",
    "db = '{}'.format(*config['DB'].values())\n",
    "coll = '{}'.format(*config['COLL'].values())\n",
    "github_coll = client[db][coll]"
   ]
  },
  {
   "cell_type": "markdown",
   "metadata": {},
   "source": [
    "Events in defined day"
   ]
  },
  {
   "cell_type": "code",
   "execution_count": 5,
   "metadata": {},
   "outputs": [],
   "source": [
    "day =  '2018-02-01'\n",
    "\n",
    "pipeline = [\n",
    "    {\n",
    "        '$project': {'_id': 0, 'created_at': 1 , 'actor_id': 1, 'actor_login': 1, 'repo_id': 1, 'repo_name':1,\n",
    "                    'daySubstring': {'$substr': [ \"$created_at\", 0, 10 ] }}\n",
    "    },\n",
    "    {\n",
    "        '$match': {'daySubstring': day}\n",
    "    },\n",
    "        {'$sort': {'created_at': 1} \n",
    "    }\n",
    "]\n",
    "\n",
    "clear_output()\n",
    "pprint.pprint(list(github_coll.aggregate(pipeline)))"
   ]
  },
  {
   "cell_type": "markdown",
   "metadata": {},
   "source": [
    "Number of events per month by user"
   ]
  },
  {
   "cell_type": "code",
   "execution_count": 7,
   "metadata": {},
   "outputs": [],
   "source": [
    "pipeline = [\n",
    "    {\n",
    "       '$addFields': {\n",
    "                      'month': {'$substr': [\"$created_at\", 0, 7]} ,\n",
    "                      'Issue': {'$cond': [{'$eq': [\"$type\", \"IssuesEvent\"]}, 1, 0 ]},\n",
    "                      'PR': {'$cond': [{'$eq': [\"$type\", \"PullRequestEvent\"]}, 1, 0 ]}\n",
    "                     }\n",
    "    },    \n",
    "    {\n",
    "    '$group': {\n",
    "        '_id' : {\n",
    "                 \"month\": \"$month\", \n",
    "                 \"actor_login\": \"$actor_login\"\n",
    "                }, \n",
    "          'SUM_PullRequestEvent': {'$sum': '$PR'},\n",
    "          'SUM_IssuesEvent': {'$sum': '$Issue'}\n",
    "        }\n",
    "    },\n",
    "    {\n",
    "        '$sort': {'_id': 1} \n",
    "    }\n",
    "]\n",
    "\n",
    "clear_output()\n",
    "pprint.pprint(list(github_coll.aggregate(pipeline)))"
   ]
  },
  {
   "cell_type": "markdown",
   "metadata": {},
   "source": [
    "Number of events per month by repo"
   ]
  },
  {
   "cell_type": "code",
   "execution_count": 8,
   "metadata": {},
   "outputs": [],
   "source": [
    "pipeline = [\n",
    "    {\n",
    "       '$addFields': {\n",
    "                      'month': {'$substr': [\"$created_at\", 0, 7]} ,\n",
    "                      'Issue': {'$cond': [{'$eq': [\"$type\", \"IssuesEvent\"]}, 1, 0 ]},\n",
    "                      'PR': {'$cond': [{'$eq': [\"$type\", \"PullRequestEvent\"]}, 1, 0 ]},\n",
    "                      'Fork': {'$cond': [{'$eq': [\"$type\", \"ForkEvent\"]}, 1, 0 ]}\n",
    "                     }\n",
    "    },    \n",
    "    {\n",
    "    '$group': {\n",
    "        '_id' : {\n",
    "                 \"month\": \"$month\", \n",
    " \n",
    "                 \"repo_name\": \"$repo_name\"\n",
    "                }, \n",
    "          'SUM_PullRequestEvent': {'$sum': '$PR'},\n",
    "          'SUM_IssuesEvent': {'$sum': '$Issue'},\n",
    "          'SUM_ForkEvent': {'$sum': '$Fork'}\n",
    "        }\n",
    "    },\n",
    "    {\n",
    "        '$sort': {'_id': 1} \n",
    "    }\n",
    "]\n",
    "\n",
    "clear_output()\n",
    "pprint.pprint(list(github_coll.aggregate(pipeline)))"
   ]
  },
  {
   "cell_type": "markdown",
   "metadata": {},
   "source": [
    "Number of active users by month"
   ]
  },
  {
   "cell_type": "code",
   "execution_count": 3,
   "metadata": {
    "scrolled": true
   },
   "outputs": [],
   "source": [
    "pipeline = [\n",
    "    {\n",
    "        '$addFields': {\n",
    "                      'month': {'$substr': [\"$created_at\", 0, 7]}\n",
    "                     }\n",
    "    },    \n",
    "    {\n",
    "        '$group': {\n",
    "            '_id' : {\n",
    "                     \"month\": \"$month\",\n",
    "                     \"actor_id\": \"$actor_id\", \n",
    "                    }, \n",
    "              'SUM': {'$sum': 1}\n",
    "        }\n",
    "    }, \n",
    "    {\n",
    "        '$group': {\n",
    "            '_id' : {\n",
    "                     \"month\": \"$_id.month\" \n",
    "                    }, \n",
    "              'active_users': {'$sum': 1}\n",
    "        }\n",
    "    },     \n",
    "    {\n",
    "        '$sort': {'_id': 1} \n",
    "    }\n",
    "]\n",
    "\n",
    "clear_output()\n",
    "pprint.pprint(list(github_coll.aggregate(pipeline)))"
   ]
  },
  {
   "cell_type": "markdown",
   "metadata": {},
   "source": [
    "Number of active repos by month"
   ]
  },
  {
   "cell_type": "code",
   "execution_count": 4,
   "metadata": {},
   "outputs": [],
   "source": [
    "pipeline = [\n",
    "    {\n",
    "        '$match': {'type': 'PullRequestEvent'}\n",
    "    },\n",
    "    {\n",
    "        '$addFields': {'month': {'$substr': [\"$created_at\", 0, 7]}}\n",
    "    },    \n",
    "    {\n",
    "        '$group': {\n",
    "            '_id' : {\n",
    "                     \"month\": \"$month\",\n",
    "                     \"repo_id\": \"$repo_id\", \n",
    "                    }, \n",
    "              'SUM': {'$sum': 1}\n",
    "        }\n",
    "    }, \n",
    "    {\n",
    "        '$group': {\n",
    "            '_id' : {\n",
    "                     \"month\": \"$_id.month\" \n",
    "                    }, \n",
    "              'active_repos_count': {'$sum': 1}\n",
    "        }\n",
    "    },     \n",
    "    {\n",
    "        '$sort': {'_id': 1} \n",
    "    }\n",
    "]\n",
    "\n",
    "clear_output()\n",
    "pprint.pprint(list(github_coll.aggregate(pipeline)))"
   ]
  },
  {
   "cell_type": "markdown",
   "metadata": {},
   "source": [
    "Top 20 repos by pullrequest events per month"
   ]
  },
  {
   "cell_type": "code",
   "execution_count": 6,
   "metadata": {},
   "outputs": [],
   "source": [
    "pipeline = [\n",
    "    {\n",
    "        '$match': {'type': 'PullRequestEvent'}\n",
    "    },\n",
    "    {\n",
    "        '$addFields': {'month': {'$substr': [\"$created_at\", 0, 7]}}\n",
    "    },    \n",
    "    {\n",
    "        '$group': {\n",
    "            '_id' : {\n",
    "                     \"month\": \"$month\",\n",
    "                     \"repo_name\": \"$repo_name\", \n",
    "                    }, \n",
    "              'sum_pull_request': {'$sum': 1}\n",
    "        }\n",
    "    },    \n",
    "    {\n",
    "        '$sort': {'sum_pull_request': -1} \n",
    "    },\n",
    "    {\n",
    "        '$limit': 20\n",
    "    }\n",
    "]\n",
    "\n",
    "clear_output()\n",
    "pprint.pprint(list(github_coll.aggregate(pipeline)))"
   ]
  },
  {
   "cell_type": "markdown",
   "metadata": {},
   "source": [
    "Top 20 users by pullrequest events per month"
   ]
  },
  {
   "cell_type": "code",
   "execution_count": 5,
   "metadata": {},
   "outputs": [],
   "source": [
    "pipeline = [\n",
    "    {\n",
    "        '$match': {'type': 'PullRequestEvent'}\n",
    "    },\n",
    "    {\n",
    "        '$addFields': {'month': {'$substr': [\"$created_at\", 0, 7]}}\n",
    "    },    \n",
    "    {\n",
    "        '$group': {\n",
    "            '_id' : {\n",
    "                     \"month\": \"$month\",\n",
    "                     \"actor_login\": \"$actor_login\", \n",
    "                    }, \n",
    "              'sum_pull_request': {'$sum': 1}\n",
    "        }\n",
    "    },    \n",
    "    {\n",
    "        '$sort': {'sum_pull_request': -1} \n",
    "    },\n",
    "    {\n",
    "        '$limit': 20\n",
    "    }\n",
    "]\n",
    "\n",
    "clear_output()\n",
    "pprint.pprint(list(github_coll.aggregate(pipeline)))"
   ]
  }
 ],
 "metadata": {
  "kernelspec": {
   "display_name": "Python 3",
   "language": "python",
   "name": "python3"
  },
  "language_info": {
   "codemirror_mode": {
    "name": "ipython",
    "version": 3
   },
   "file_extension": ".py",
   "mimetype": "text/x-python",
   "name": "python",
   "nbconvert_exporter": "python",
   "pygments_lexer": "ipython3",
   "version": "3.6.9"
  }
 },
 "nbformat": 4,
 "nbformat_minor": 2
}
